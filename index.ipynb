{
 "cells": [
  {
   "cell_type": "markdown",
   "metadata": {},
   "source": [
    "# Vorbis Audio Coding"
   ]
  },
  {
   "cell_type": "markdown",
   "metadata": {},
   "source": [
    "## Steps\n",
    "\n",
    "1. Overlaped subband analysis using [MDCT](http://en.wikipedia.org/wiki/Modified_discrete_cosine_transform).\n",
    "2. Perceptual quantization.\n",
    "3. Entropy coding."
   ]
  },
  {
   "cell_type": "markdown",
   "metadata": {},
   "source": [
    "## Overlaped processing\n",
    "\n",
    "```\n",
    "0              N-1            2N-1            3N-1\n",
    "+---------------+---------------+---------------+ s[n]\n",
    "<--------Transform Step--------->\n",
    "                <---------Transform Step-------->\n",
    "```\n",
    "\n",
    "* Each transform step inputs $2N$ samples and outputs $N$ MDCT coeficients.\n",
    "\n",
    "* $N$ can vary depending on the characteristics of the sound. For\n",
    "  \\emph{complex} sounds without clear armonics (such as a plosive sound),\n",
    "  shortened windows improve the performance. For \\emph{simple} sounds\n",
    "  (such as a music instrument), large windows are better."
   ]
  },
  {
   "cell_type": "markdown",
   "metadata": {},
   "source": [
    "## Channel coupling\n",
    "\n",
    "Most of the time, similar sounds are transported in the channels\n",
    "  of a non-mono audio signal. Channel coupling decreases inter-channel\n",
    "  redundancy, usually, using prediction techniques."
   ]
  },
  {
   "cell_type": "markdown",
   "metadata": {},
   "source": [
    "## Perceptual quantization & white-noise filling\n",
    "\n",
    "Depending on the desired output bit-rate and the frequency (see\n",
    "  the ATH model), the SAM applies a different quantization step to\n",
    "  barks (see Section~\\ref{sec:ATH}). Roughly speaking, the higher the\n",
    "  compression ratio, the larger the quantization step and therefore,\n",
    "  the quantization noise; and the higher the frequency, the wider the\n",
    "  bark. Notice also that the perception of a tone in a bark depends\n",
    "  also on the temporal masking.\n",
    "  \n",
    "At decoding time, those barks that suffered the biggest lossess\n",
    "  are usually filled with\n",
    "  \\href{http://en.wikipedia.org/wiki/White_noise}{white noise} in\n",
    "  order to \\href{http://simplynoise.com/}{increase the perceived\n",
    "    quality}."
   ]
  },
  {
   "cell_type": "markdown",
   "metadata": {},
   "source": [
    "## MDCT (Modified Discrete Cosine Transform)\n",
    "\n",
    "* Equivalent to apply a\n",
    "  \\href{http://en.wikipedia.org/wiki/Filter_bank}{bank} of $N$\n",
    "  filters.\n",
    "  \n",
    "* Determines the correlation between a set of $2N$ numbers\n",
    "  (samples) and $N$\n",
    "  \\href{http://en.wikipedia.org/wiki/Orthogonality}{orthogonal}\\footnote{Two\n",
    "    functions/signals are orthogonal if it is impossible to obtain one\n",
    "    of them by means of the other.} \\href{http://guru.multimedia.cx/mdct/}{cosine functions}. Therefore,\n",
    "  at the input of the DCT there are $2N$ samples and at the output,\n",
    "  $N$ coefficients.\n",
    "    \n",
    "* The MDCT coefficients $S[w]$ of the PCM samples $s[n]$ are\n",
    "  defined as:\n",
    "  \\begin{equation}\n",
    "    S[w] = \\sum_{n=0}^{2N-1}s[n]cos\\Big[\\frac{\\pi}{N}(n+\\frac{1}{2}+\\frac{N}{2})(w+\\frac{1}{2})\\B\n",
    "ig].\n",
    "    \\label{eq:MDCT}\n",
    "  \\end{equation}"
   ]
  },
  {
   "cell_type": "markdown",
   "metadata": {},
   "source": [
    "## Entropy coding\n",
    "\n",
    "VLC of MDCT coefficients."
   ]
  },
  {
   "cell_type": "markdown",
   "metadata": {},
   "source": [
    "## Stream format\n",
    "\n",
    "<img src=\"data/Ogg_Stream.png\" width=800>"
   ]
  },
  {
   "cell_type": "markdown",
   "metadata": {},
   "source": [
    "## Window\n",
    "\n",
    "<img src=\"data/window.png\" width=400>\n",
    "<img src=\"data/window_spectrum.png\" width=400>"
   ]
  },
  {
   "cell_type": "code",
   "execution_count": null,
   "metadata": {},
   "outputs": [],
   "source": [
    "\\title{\\href{https://wiki.xiph.org/Vorbis-tools}{Vorbis tools}}\n",
    "\n",
    "\\maketitle\n",
    "\\tableofcontents\n",
    "\n",
    "\n",
    "\\chapter{oggenc}\n",
    "\n",
    "\\section{What is \\href{http://freecode.com/projects/oggenc}{\\texttt{oggenc}}?}\n",
    "\\begin{itemize}\n",
    "\\item OggEnc is a flexible and fully featured command line encoder for\n",
    "the Ogg Vorbis format.\n",
    "\\end{itemize}\n",
    "\n",
    "\\section{Simplest encoding}\n",
    "\\begin{verbatim}\n",
    "$ oggenc somefile.wav # Produces output as somefile.ogg\n",
    "\\end{verbatim}\n",
    "\n",
    "\\section{Specifying an output filename}\n",
    "\\begin{verbatim}\n",
    "$ oggenc somefile.wav -o out.ogg\n",
    "\\end{verbatim}\n",
    "\n",
    "\\section{Specifying an encoding VBR (Variable Bit-Rate) of 256 Kbps}\n",
    "\\begin{verbatim}\n",
    "$ oggenc infile.wav -b 256 out.ogg \n",
    "\\end{verbatim}\n",
    "\n",
    "\\section{Specifying a maximum and average bitrate}\n",
    "\\begin{verbatim}\n",
    "$ oggenc infile.wav --managed -b 128 -M 160 out.ogg \n",
    "\\end{verbatim}\n",
    "\n",
    "\\section{Specifying a quality}\n",
    "\\begin{verbatim}\n",
    "$ oggenc infile.wav -q 6 out.ogg \n",
    "\\end{verbatim}\n",
    "\n",
    "\\section{Transcoding: Downsampling and downmixing to 11 kHz mono before encoding}\n",
    "\\begin{verbatim}\n",
    "$ oggenc --resample 11025 --downmix infile.wav -q 1 out.ogg \n",
    "\\end{verbatim}\n",
    "\n",
    "\\section{Adding some info about the track}\n",
    "\\begin{verbatim}\n",
    "$ oggenc somefile.wav -t \"Title\" -a \"Artist\" -l \"Album\" -c \"OTHERFIELD=Other comments\"\n",
    "\\end{verbatim} \n",
    "\n",
    "\\section{Encoding from stdin to stdout}\n",
    "\\begin{verbatim}\n",
    "oggenc -\n",
    "\\end{verbatim}\n",
    "\n",
    "\n",
    "\\chapter{oggdec}\n",
    "\n",
    "\\chapter{ogg123}\n",
    "A simple command line Ogg Vorbis decoder and player\n",
    "\n",
    "\\chapter{ogginfo}\n",
    "\n",
    "\\chapter{\\texttt{vcut}}\n",
    "\n",
    "\\chapter{\\texttt{vorbiscomment}}\n"
   ]
  }
 ],
 "metadata": {
  "kernelspec": {
   "display_name": "Python 3",
   "language": "python",
   "name": "python3"
  },
  "language_info": {
   "codemirror_mode": {
    "name": "ipython",
    "version": 3
   },
   "file_extension": ".py",
   "mimetype": "text/x-python",
   "name": "python",
   "nbconvert_exporter": "python",
   "pygments_lexer": "ipython3",
   "version": "3.6.1"
  }
 },
 "nbformat": 4,
 "nbformat_minor": 2
}
